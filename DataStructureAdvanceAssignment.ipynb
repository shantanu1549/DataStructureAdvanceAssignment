{
  "nbformat": 4,
  "nbformat_minor": 0,
  "metadata": {
    "colab": {
      "provenance": []
    },
    "kernelspec": {
      "name": "python3",
      "display_name": "Python 3"
    },
    "language_info": {
      "name": "python"
    }
  },
  "cells": [
    {
      "cell_type": "code",
      "execution_count": null,
      "metadata": {
        "colab": {
          "base_uri": "https://localhost:8080/"
        },
        "id": "EBt_a8il2Pmp",
        "outputId": "2b966799-eb07-4c0e-8c77-ee8d193bda42"
      },
      "outputs": [
        {
          "output_type": "stream",
          "name": "stdout",
          "text": [
            "Enter a String : Mom\n",
            "Original String :  Mom\n",
            "Reversed String :  moM\n"
          ]
        }
      ],
      "source": [
        "#1. Write a code to reverse a string.\n",
        "\n",
        "s = input(\"Enter a String : \")\n",
        "rev = s[::-1]\n",
        "print(\"Original String : \", s)\n",
        "print(\"Reversed String : \", rev)\n"
      ]
    },
    {
      "cell_type": "code",
      "source": [
        "#2. Write a code to count the number of vowels in a string.\n",
        "\n",
        "s = input(\"Enter a string : \")\n",
        "vow = 'AEIOUaeiou'\n",
        "count = 0\n",
        "for i in s:\n",
        "    if i in vow:\n",
        "        count += 1\n",
        "print(\"Number of vowels in string : \", count)"
      ],
      "metadata": {
        "colab": {
          "base_uri": "https://localhost:8080/"
        },
        "id": "IrVe3jdE3PCV",
        "outputId": "ee8338c5-2d54-4a9f-b70b-885d10efd2c7"
      },
      "execution_count": null,
      "outputs": [
        {
          "output_type": "stream",
          "name": "stdout",
          "text": [
            "Enter a string : Shantanu\n",
            "Number of vowels in string :  3\n"
          ]
        }
      ]
    },
    {
      "cell_type": "code",
      "source": [
        "#3. Write a code to check if a given string is palindrome or not.\n",
        "\n",
        "s = input(\"Enter a string : \")\n",
        "if s == s[::-1]:\n",
        "    print(\"String is palindrome\")\n",
        "else:\n",
        "    print(\"String is not palindrome\")"
      ],
      "metadata": {
        "colab": {
          "base_uri": "https://localhost:8080/"
        },
        "id": "Qee69i263uGq",
        "outputId": "bbff7810-62bd-41a2-ed4f-79ad66434671"
      },
      "execution_count": null,
      "outputs": [
        {
          "output_type": "stream",
          "name": "stdout",
          "text": [
            "Enter a string : malayalam\n",
            "String is palindrome\n"
          ]
        }
      ]
    },
    {
      "cell_type": "code",
      "source": [
        "#4. Write a code to check if two given strings are anagrams of each other.\n",
        "\n",
        "str1 = input(\"Enter First string : \")\n",
        "str2 = input(\"Enter Second string : \")\n",
        "if sorted(str1) == sorted(str2):\n",
        "    print(\"Strings are ANAGRAMS\")\n",
        "else:\n",
        "    print(\"Strings are not ANAGRAMS\")"
      ],
      "metadata": {
        "colab": {
          "base_uri": "https://localhost:8080/"
        },
        "id": "tVizJOyK4Q_b",
        "outputId": "aba66ae2-cfcd-4674-ba0e-90e5db4c4890"
      },
      "execution_count": null,
      "outputs": [
        {
          "output_type": "stream",
          "name": "stdout",
          "text": [
            "Enter First string : race\n",
            "Enter Second string : care\n",
            "Strings are anagrams\n"
          ]
        }
      ]
    },
    {
      "cell_type": "code",
      "source": [
        "#5. Write a code to find all occurrences of a given substring within another string.\n",
        "\n",
        "s = input(\"Enter a String : \")\n",
        "sub = input(\"Enter a Substring : \")\n",
        "count = 0\n",
        "for i in range(len(s)):\n",
        "    if s[i : i + len(sub)] == sub:\n",
        "        count += 1\n",
        "print(\"Number of occurrences of Substring : \", count)"
      ],
      "metadata": {
        "colab": {
          "base_uri": "https://localhost:8080/"
        },
        "id": "_PJ29kAd4rc1",
        "outputId": "2fdf6c85-65f7-42ec-999e-0ab59dd661af"
      },
      "execution_count": null,
      "outputs": [
        {
          "output_type": "stream",
          "name": "stdout",
          "text": [
            "Enter a string : shashashashashu\n",
            "Enter a substring : sha\n",
            "Number of occurrences of substring :  4\n"
          ]
        }
      ]
    },
    {
      "cell_type": "code",
      "source": [
        "#6. Write a code to perform basic string compression using the counts of repeated characters.\n",
        "\n",
        "s = input(\"Enter a String : \")\n",
        "s1 = \"\"\n",
        "count = 1\n",
        "\n",
        "for i in range(len(s) - 1):\n",
        "    if s[i] == s[i + 1]:\n",
        "        count += 1\n",
        "    else:\n",
        "        s1 += s[i] + str(count)\n",
        "        count = 1\n",
        "\n",
        "s1 += s[-1] + str(count)\n",
        "print(s1)"
      ],
      "metadata": {
        "colab": {
          "base_uri": "https://localhost:8080/"
        },
        "id": "KXajx__r5z92",
        "outputId": "1954d5c8-e44a-49b8-dd77-23ea6f67494c"
      },
      "execution_count": null,
      "outputs": [
        {
          "output_type": "stream",
          "name": "stdout",
          "text": [
            "Enter a String : aaabbbccchhhsjk\n",
            "a3b3c3h3s1j1k1\n"
          ]
        }
      ]
    },
    {
      "cell_type": "code",
      "source": [
        "#7. Write a code to determine if a string has all unique characters.\n",
        "\n",
        "s = input(\"Enter a String : \")\n",
        "s1 = set(s)\n",
        "if len(s) == len(s1):\n",
        "    print(\"String has all unique characters\")\n",
        "else:\n",
        "    print(\"String does not have all unique characters\")\n"
      ],
      "metadata": {
        "id": "vHdnZ2OlKThU",
        "colab": {
          "base_uri": "https://localhost:8080/"
        },
        "outputId": "7ec4101f-d730-4d45-bcbb-4c5618969558"
      },
      "execution_count": 6,
      "outputs": [
        {
          "output_type": "stream",
          "name": "stdout",
          "text": [
            "Enter a String : set\n",
            "String has all unique characters\n"
          ]
        }
      ]
    },
    {
      "cell_type": "code",
      "source": [
        "#8. Write a code to convert a given string to uppercase or lowercase.\n",
        "\n",
        "s = input(\"Enbter a String : \")\n",
        "print(\"Uppercase String : \", s.upper())\n",
        "print(\"Lowercase String : \", s.lower())\n"
      ],
      "metadata": {
        "colab": {
          "base_uri": "https://localhost:8080/"
        },
        "id": "iGsZgaG73JbO",
        "outputId": "61a80a77-2f9a-443e-9d2e-1b828fd824bf"
      },
      "execution_count": 7,
      "outputs": [
        {
          "output_type": "stream",
          "name": "stdout",
          "text": [
            "Enbter a String : shAnTAnu\n",
            "Uppercase String :  SHANTANU\n",
            "Lowercase String :  shantanu\n"
          ]
        }
      ]
    },
    {
      "cell_type": "code",
      "source": [
        "#9. Write a code to count the number of words in a string.\n",
        "\n",
        "s = input(\"Enter a String : \")\n",
        "s1 = s.split()\n",
        "print(\"Number of words in string : \", len(s1))"
      ],
      "metadata": {
        "colab": {
          "base_uri": "https://localhost:8080/"
        },
        "id": "8zUi-UMg3aIK",
        "outputId": "cc61e1f0-da41-4aad-e654-60d9c8de50eb"
      },
      "execution_count": 8,
      "outputs": [
        {
          "output_type": "stream",
          "name": "stdout",
          "text": [
            "Enter a String : Shantanu is learning Data Science from PWSkilss\n",
            "Number of words in string :  7\n"
          ]
        }
      ]
    },
    {
      "cell_type": "code",
      "source": [
        "#10. Write a code to concatenate two strings without using the + operator.\n",
        "\n",
        "s1 = input(\"Enter First String : \")\n",
        "s2 = input(\"Enter Second String : \")\n",
        "print(f\"Concatenated String : {s1}{s2}\")"
      ],
      "metadata": {
        "colab": {
          "base_uri": "https://localhost:8080/"
        },
        "id": "Gk8AbVeU3nZp",
        "outputId": "7e0f1c8e-ef3d-48dd-d810-94c55ce3d53c"
      },
      "execution_count": 9,
      "outputs": [
        {
          "output_type": "stream",
          "name": "stdout",
          "text": [
            "Enter First String : Shantanu_\n",
            "Enter Second String : Shukla\n",
            "Concatenated String : Shantanu_Shukla\n"
          ]
        }
      ]
    },
    {
      "cell_type": "code",
      "source": [
        "#11. Write a code to remove all occurrences of a specific element from a list.\n",
        "\n",
        "l = list(input(\"Enter a List : \"))\n",
        "rem = input(\"Enter a element to remove : \")\n",
        "for i in l:\n",
        "    if i == rem:\n",
        "        l.remove(i)\n",
        "print(l)"
      ],
      "metadata": {
        "colab": {
          "base_uri": "https://localhost:8080/"
        },
        "id": "Jipk5n4QlBXh",
        "outputId": "71786f68-1235-43d9-81d1-9bbaa4052cc2"
      },
      "execution_count": 3,
      "outputs": [
        {
          "output_type": "stream",
          "name": "stdout",
          "text": [
            "Enter a List : Shantanu\n",
            "Enter a element to remove : a\n",
            "['S', 'h', 'n', 't', 'n', 'u']\n"
          ]
        }
      ]
    },
    {
      "cell_type": "code",
      "source": [
        "#12. Implement a code to find the second largest number in a given list of integers.\n",
        "\n",
        "l = [1,2,3,4,5,3,2,4,7,8,9,6,10]\n",
        "l1 = set(l)\n",
        "l1.remove(max(l1))\n",
        "print(\"Second largest number : \", max(l1))"
      ],
      "metadata": {
        "colab": {
          "base_uri": "https://localhost:8080/"
        },
        "id": "3WDHZwMjJf4F",
        "outputId": "cf89e6a2-eb12-4b03-8da7-ea7b22885d0c"
      },
      "execution_count": 5,
      "outputs": [
        {
          "output_type": "stream",
          "name": "stdout",
          "text": [
            "Second largest number :  9\n"
          ]
        }
      ]
    },
    {
      "cell_type": "code",
      "source": [
        "#13. Create a code to count the occurrences of each element in a list and return a dictionary with elements as keys and their counts as values.\n",
        "\n",
        "l = []\n",
        "n = int(input(\"Enter number of elements : \"))\n",
        "for i in range(n):\n",
        "    l.append(input(\"Enter element : \"))\n",
        "d = {}\n",
        "for i in l:\n",
        "    if i in d:\n",
        "        d[i] += 1\n",
        "    else:\n",
        "        d[i] = 1\n",
        "print(d)"
      ],
      "metadata": {
        "colab": {
          "base_uri": "https://localhost:8080/"
        },
        "id": "s4hAuFQOKRfp",
        "outputId": "0b774613-ea72-4d47-9cd0-7f78ec494a7a"
      },
      "execution_count": 8,
      "outputs": [
        {
          "output_type": "stream",
          "name": "stdout",
          "text": [
            "Enter number of elements : 8\n",
            "Enter element : s\n",
            "Enter element : h\n",
            "Enter element : a\n",
            "Enter element : n\n",
            "Enter element : t\n",
            "Enter element : a\n",
            "Enter element : n\n",
            "Enter element : u\n",
            "{'s': 1, 'h': 1, 'a': 2, 'n': 2, 't': 1, 'u': 1}\n"
          ]
        }
      ]
    },
    {
      "cell_type": "code",
      "source": [
        "#14. Write a code to reverse a list in-place without using any built-in reverse functions.\n",
        "\n",
        "l = []\n",
        "n = int(input(\"Enter number of elements : \"))\n",
        "for i in range(n):\n",
        "    l.append(input(\"Enter element : \"))\n",
        "l1 = []\n",
        "for i in range(len(l) - 1, -1, -1):\n",
        "    l1.append(l[i])\n",
        "print(l)\n",
        "print(l1)"
      ],
      "metadata": {
        "colab": {
          "base_uri": "https://localhost:8080/"
        },
        "id": "IbE6Ck65LEvT",
        "outputId": "6ac61b29-9b7c-4325-849e-71e7698449a6"
      },
      "execution_count": 12,
      "outputs": [
        {
          "output_type": "stream",
          "name": "stdout",
          "text": [
            "Enter number of elements : 8\n",
            "Enter element : s\n",
            "Enter element : h\n",
            "Enter element : a\n",
            "Enter element : n\n",
            "Enter element : t\n",
            "Enter element : a\n",
            "Enter element : n\n",
            "Enter element : u\n",
            "['s', 'h', 'a', 'n', 't', 'a', 'n', 'u']\n",
            "['u', 'n', 'a', 't', 'n', 'a', 'h', 's']\n"
          ]
        }
      ]
    },
    {
      "cell_type": "code",
      "source": [
        "#15. Implement a code to find and remove duplicates from a list while preserving the original order of elements.\n",
        "\n",
        "l = []\n",
        "n = int(input(\"Enter number of elements : \"))\n",
        "for i in range(n):\n",
        "    l.append(input(\"Enter element : \"))\n",
        "l1 = []\n",
        "for i in l:\n",
        "    if i not in l1:\n",
        "        l1.append(i)\n",
        "    else:\n",
        "        continue\n",
        "print(l1)"
      ],
      "metadata": {
        "colab": {
          "base_uri": "https://localhost:8080/"
        },
        "id": "PA4e-WItLsr4",
        "outputId": "b365babe-06d0-491e-b62f-cad342aaf7ab"
      },
      "execution_count": 18,
      "outputs": [
        {
          "output_type": "stream",
          "name": "stdout",
          "text": [
            "Enter number of elements : 8\n",
            "Enter element : s\n",
            "Enter element : h\n",
            "Enter element : a\n",
            "Enter element : n\n",
            "Enter element : t\n",
            "Enter element : a\n",
            "Enter element : n\n",
            "Enter element : u\n",
            "['s', 'h', 'a', 'n', 't', 'u']\n"
          ]
        }
      ]
    },
    {
      "cell_type": "code",
      "source": [
        "#16. Create a code to check if a given list is sorted (either in ascending or descending order) or not.\n",
        "\n",
        "l = []\n",
        "n = int(input(\"Enter number of elements : \"))\n",
        "for i in range(n):\n",
        "    l.append(int(input(\"Enter element : \")))\n",
        "\n",
        "if l == sorted(l) or l == sorted(l, reverse = True):\n",
        "    print(\"List is sorted\")\n",
        "else:\n",
        "    print(\"List is not sorted\")\n",
        ""
      ],
      "metadata": {
        "colab": {
          "base_uri": "https://localhost:8080/"
        },
        "id": "BrJKvrClUJRp",
        "outputId": "ecd0f758-5ba7-4b78-9498-f110504bd06a"
      },
      "execution_count": 1,
      "outputs": [
        {
          "output_type": "stream",
          "name": "stdout",
          "text": [
            "Enter number of elements : 5\n",
            "Enter element : 2\n",
            "Enter element : 3\n",
            "Enter element : 1\n",
            "Enter element : 4\n",
            "Enter element : 5\n",
            "List is not sorted\n"
          ]
        }
      ]
    },
    {
      "cell_type": "code",
      "source": [
        "#17. Write a code to merge two sorted lists into a single sorted list.\n",
        "\n",
        "l1 = []\n",
        "n1 = int(input(\"Enter number of elements of first list : \"))\n",
        "for i in range(n1):\n",
        "    l1.append(int(input(\"Enter element : \")))\n",
        "l2 = []\n",
        "n2 = int(input(\"Enter number of elements of second list : \"))\n",
        "for i in range(n2):\n",
        "    l2.append(int(input(\"Enter element : \")))\n",
        "l3 = l1 + l2\n",
        "l3.sort()\n",
        "print(l3)"
      ],
      "metadata": {
        "colab": {
          "base_uri": "https://localhost:8080/"
        },
        "id": "rRJ7GHKaUQdx",
        "outputId": "a3883564-85f2-4599-d09e-72295cfe6fbe"
      },
      "execution_count": 6,
      "outputs": [
        {
          "output_type": "stream",
          "name": "stdout",
          "text": [
            "Enter number of elements of first list : 3\n",
            "Enter element : 4\n",
            "Enter element : 5\n",
            "Enter element : 6\n",
            "Enter number of elements of second list : 3\n",
            "Enter element : 1\n",
            "Enter element : 2\n",
            "Enter element : 3\n",
            "[1, 2, 3, 4, 5, 6]\n"
          ]
        }
      ]
    },
    {
      "cell_type": "code",
      "source": [
        "#18. Implement a code to find the intersection of two given lists.\n",
        "\n",
        "l1 = []\n",
        "n1 = int(input(\"Enter number of elements of first list : \"))\n",
        "for i in range(n1):\n",
        "    l1.append(int(input(\"Enter element : \")))\n",
        "l2 = []\n",
        "n2 = int(input(\"Enter number of elements of second list : \"))\n",
        "for i in range(n2):\n",
        "    l2.append(int(input(\"Enter element : \")))\n",
        "l3 = []\n",
        "for i in l1:\n",
        "    if i in l2:\n",
        "        l3.append(i)\n",
        "print(l3)"
      ],
      "metadata": {
        "colab": {
          "base_uri": "https://localhost:8080/"
        },
        "id": "6WeQY_rYVSNF",
        "outputId": "1c6b44b1-07b9-4d59-de8e-15c3903b5f25"
      },
      "execution_count": 7,
      "outputs": [
        {
          "output_type": "stream",
          "name": "stdout",
          "text": [
            "Enter number of elements of first list : 5\n",
            "Enter element : 1\n",
            "Enter element : 2\n",
            "Enter element : 3\n",
            "Enter element : 4\n",
            "Enter element : 5\n",
            "Enter number of elements of second list : 5\n",
            "Enter element : 3\n",
            "Enter element : 4\n",
            "Enter element : 5\n",
            "Enter element : 6\n",
            "Enter element : 7\n",
            "[3, 4, 5]\n"
          ]
        }
      ]
    },
    {
      "cell_type": "code",
      "source": [
        "#19. Create a code to find the union of two lists without duplicates.\n",
        "\n",
        "l1 = []\n",
        "n1 = int(input(\"Enter number of elements of first list : \"))\n",
        "for i in range(n1):\n",
        "    l1.append(int(input(\"Enter element : \")))\n",
        "l2 = []\n",
        "n2 = int(input(\"Enter number of elements of second list : \"))\n",
        "for i in range(n2):\n",
        "    l2.append(int(input(\"Enter element : \")))\n",
        "\n",
        "l3 = l1 + l2\n",
        "l4 = []\n",
        "for i in l3:\n",
        "    if i not in l4:\n",
        "        l4.append(i)\n",
        "print(l4)"
      ],
      "metadata": {
        "colab": {
          "base_uri": "https://localhost:8080/"
        },
        "id": "sQ9Uo9KlVorN",
        "outputId": "3028a222-4c04-4039-8145-344fdbfdee74"
      },
      "execution_count": 8,
      "outputs": [
        {
          "output_type": "stream",
          "name": "stdout",
          "text": [
            "Enter number of elements of first list : 3\n",
            "Enter element : 1\n",
            "Enter element : 2\n",
            "Enter element : 3\n",
            "Enter number of elements of second list : 3\n",
            "Enter element : 2\n",
            "Enter element : 3\n",
            "Enter element : 1\n",
            "[1, 2, 3]\n"
          ]
        }
      ]
    },
    {
      "cell_type": "code",
      "source": [
        "#20. Write a code to shuffle a given list randomly without using any built-in shuffle functions.\n",
        "\n",
        "import random\n",
        "original_list = [1, 2, 3, 4, 5, 6, 7, 8, 9, 10]\n",
        "print(\"Original List:\", original_list)\n",
        "n = len(original_list)\n",
        "\n",
        "for i in range(n - 1, 0, -1):\n",
        "    j = random.randint(0, i)\n",
        "    temp = original_list[i]\n",
        "    original_list[i] = original_list[j]\n",
        "    original_list[j] = temp\n",
        "\n",
        "print(\"Shuffled List:\", original_list)\n"
      ],
      "metadata": {
        "colab": {
          "base_uri": "https://localhost:8080/"
        },
        "id": "1KxFlG8AV7En",
        "outputId": "3a825bf0-0a81-445c-d887-604234fb8550"
      },
      "execution_count": 32,
      "outputs": [
        {
          "output_type": "stream",
          "name": "stdout",
          "text": [
            "Original List: [1, 2, 3, 4, 5, 6, 7, 8, 9, 10]\n",
            "Shuffled List: [4, 9, 7, 5, 8, 3, 1, 10, 6, 2]\n"
          ]
        }
      ]
    },
    {
      "cell_type": "code",
      "source": [
        "#21. Write a code that takes two tuples as input and returns a new tuple containing elements that are common to both input tuples.\n",
        "\n",
        "t1 = ()\n",
        "n1 = int(input(\"Enter number of elements of first tuple : \"))\n",
        "for i in range(n1):\n",
        "    t1 += (int(input(\"Enter element : \")),)\n",
        "t2 = ()\n",
        "n2 = int(input(\"Enter number of elements of second tuple : \"))\n",
        "for i in range(n2):\n",
        "    t2 += (int(input(\"Enter element : \")),)\n",
        "\n",
        "t3 = ()\n",
        "for i in t1:\n",
        "    if i in t2:\n",
        "        t3 += (i,)\n",
        "print(t3)\n"
      ],
      "metadata": {
        "colab": {
          "base_uri": "https://localhost:8080/"
        },
        "id": "dkdHX6w1YGjV",
        "outputId": "5a54dba7-31f9-4bf3-c348-c9f8b9824613"
      },
      "execution_count": 9,
      "outputs": [
        {
          "output_type": "stream",
          "name": "stdout",
          "text": [
            "Enter number of elements of first tuple : 3\n",
            "Enter element : 15\n",
            "Enter element : 17\n",
            "Enter element : 2\n",
            "Enter number of elements of second tuple : 3\n",
            "Enter element : 15\n",
            "Enter element : 4\n",
            "Enter element : 9\n",
            "(15,)\n"
          ]
        }
      ]
    },
    {
      "cell_type": "code",
      "source": [
        "#22. Create a code that prompts the user to enter two sets of integers separated by commas. Then, print the intersection of these two sets.\n",
        "\n",
        "s1 = set(input(\"Enter first set of integers separated by commas : \").split(\",\"))\n",
        "s2 = set(input(\"Enter second set of integers separated by commas : \").split(\",\"))\n",
        "print(s1.intersection(s2))"
      ],
      "metadata": {
        "colab": {
          "base_uri": "https://localhost:8080/"
        },
        "id": "i3DV1GZ6Yx75",
        "outputId": "60fc36c9-5a3e-4775-c36e-d8441308de45"
      },
      "execution_count": 10,
      "outputs": [
        {
          "output_type": "stream",
          "name": "stdout",
          "text": [
            "Enter first set of integers separated by commas : 1,2,3,4,5\n",
            "Enter second set of integers separated by commas : 2,3,4,5,6\n",
            "{'5', '2', '3', '4'}\n"
          ]
        }
      ]
    },
    {
      "cell_type": "code",
      "source": [
        "#23. Write a code to concatenate two tuples. The function should take two tuples as input and return a new tuple containing elements from both input tuples.\n",
        "\n",
        "def concat(t1,t2):\n",
        "  return t1 + t2\n",
        "\n",
        "t1 = ()\n",
        "n1 = int(input(\"Enter number of elements of first tuple : \"))\n",
        "for i in range(n1):\n",
        "    t1 += (int(input(\"Enter element : \")),)\n",
        "t2 = ()\n",
        "n2 = int(input(\"Enter number of elements of second tuple : \"))\n",
        "for i in range(n2):\n",
        "    t2 += (int(input(\"Enter element : \")),)\n",
        "\n",
        "print(\"Concatenated Tuple : \", concat(t1,t2))1"
      ],
      "metadata": {
        "colab": {
          "base_uri": "https://localhost:8080/"
        },
        "id": "tAyfC9cXZIvA",
        "outputId": "a81ceba6-c210-4774-e32a-01d4656b24dc"
      },
      "execution_count": 11,
      "outputs": [
        {
          "output_type": "stream",
          "name": "stdout",
          "text": [
            "Enter number of elements of first tuple : 2\n",
            "Enter element : 15\n",
            "Enter element : 7\n",
            "Enter number of elements of second tuple : 4\n",
            "Enter element : 9\n",
            "Enter element : 12\n",
            "Enter element : 32\n",
            "Enter element : 17\n",
            "Concatenated Tuple :  (15, 7, 9, 12, 32, 17)\n"
          ]
        }
      ]
    },
    {
      "cell_type": "code",
      "source": [
        "#24. Develop a code that prompts the user to input two sets of strings. Then, print the elements that are present in the first set but not in the second set.\n",
        "\n",
        "s1 = set(input(\"Enter first set of strings separated by commas : \").split(\",\"))\n",
        "s2 = set(input(\"Enter second set of strings separated by commas : \").split(\",\"))\n",
        "print(s1.difference(s2))\n"
      ],
      "metadata": {
        "colab": {
          "base_uri": "https://localhost:8080/"
        },
        "id": "Z4Ss3Bs7aAW7",
        "outputId": "b9c0ad41-b0b7-48fc-85e8-6b158164e369"
      },
      "execution_count": 12,
      "outputs": [
        {
          "output_type": "stream",
          "name": "stdout",
          "text": [
            "Enter first set of strings separated by commas : abc,efg,hij\n",
            "Enter second set of strings separated by commas : efg,hij,klm\n",
            "{'abc'}\n"
          ]
        }
      ]
    },
    {
      "cell_type": "code",
      "source": [
        "#25. Create a code that takes a tuple and two integers as input. The function should return a new tuple containing elements from the original tuple within the specified range of indices.\n",
        "\n",
        "def crop(t, a1, a2):\n",
        "  return t[a1:a2]\n",
        "\n",
        "t = ()\n",
        "n = int(input(\"Enter number of elements of tuple : \"))\n",
        "for i in range(n):\n",
        "    t += (int(input(\"Enter element : \")),)\n",
        "\n",
        "a1 = int(input(\"Enter starting index : \"))\n",
        "a2 = int(input(\"Enter ending index : \"))\n",
        "\n",
        "print(\"Cropped Tuple : \", crop(t, a1, a2))\n",
        "\n"
      ],
      "metadata": {
        "colab": {
          "base_uri": "https://localhost:8080/"
        },
        "id": "ZBo1KO-BaQMw",
        "outputId": "5a7b2d88-cb62-4f1d-fe42-e434f0e90252"
      },
      "execution_count": 17,
      "outputs": [
        {
          "output_type": "stream",
          "name": "stdout",
          "text": [
            "Enter number of elements of tuple : 5\n",
            "Enter element : 2\n",
            "Enter element : 4\n",
            "Enter element : 6\n",
            "Enter element : 8\n",
            "Enter element : 10\n",
            "Enter starting index : 2\n",
            "Enter ending index : 4\n",
            "Cropped Tuple :  (6, 8)\n"
          ]
        }
      ]
    },
    {
      "cell_type": "code",
      "source": [
        "#26. Write a code that prompts the user to input two sets of characters. Then, print the union of these two sets.\n",
        "\n",
        "s1 = set(input(\"Enter first set of characters separated by commas : \").split(\",\"))\n",
        "s2 = set(input(\"Enter second set of characters separated by commas : \").split(\",\"))\n",
        "print(s1.union(s2))\n"
      ],
      "metadata": {
        "colab": {
          "base_uri": "https://localhost:8080/"
        },
        "id": "Z1h-TrnibOLz",
        "outputId": "c864d9f9-b918-4afd-cc3b-565e35f6d31a"
      },
      "execution_count": 18,
      "outputs": [
        {
          "output_type": "stream",
          "name": "stdout",
          "text": [
            "Enter first set of characters separated by commas : 1,2,3,4,5\n",
            "Enter second set of characters separated by commas : 6,7,8,9,10\n",
            "{'5', '8', '10', '9', '2', '1', '6', '7', '3', '4'}\n"
          ]
        }
      ]
    },
    {
      "cell_type": "code",
      "source": [
        "#27. Develop a code that takes a tuple of integers as input. The function should return the maximum and minimum values from the tuple using tuple unpacking.\n",
        "\n",
        "def maxmin(t):\n",
        "  return max(t), min(t)\n",
        "\n",
        "t = ()\n",
        "n = int(input(\"Enter number of elements of tuple : \"))\n",
        "for i in range(n):\n",
        "    t += (int(input(\"Enter element : \")),)\n",
        "\n",
        "print(\"Maximum and Minimum values : \", maxmin(t))\n"
      ],
      "metadata": {
        "colab": {
          "base_uri": "https://localhost:8080/"
        },
        "id": "GIxHh6GfbYlC",
        "outputId": "63a4fc93-e88d-4014-f62d-bb759b7827cf"
      },
      "execution_count": 19,
      "outputs": [
        {
          "output_type": "stream",
          "name": "stdout",
          "text": [
            "Enter number of elements of tuple : 5\n",
            "Enter element : 23\n",
            "Enter element : 76\n",
            "Enter element : 65\n",
            "Enter element : 43\n",
            "Enter element : 28\n",
            "Maximum and Minimum values :  (76, 23)\n"
          ]
        }
      ]
    },
    {
      "cell_type": "code",
      "source": [
        "#28. Create a code that defines two sets of integers. Then, print the union, intersection, and difference of these two sets.\n",
        "\n",
        "s1 = set(input(\"Enter first set of integers separated by commas : \").split(\",\"))\n",
        "s2 = set(input(\"Enter second set of integers separated by commas : \").split(\",\"))\n",
        "print(\"Union : \", s1.union(s2))\n",
        "print(\"Intersection : \", s1.intersection(s2))\n",
        "print(\"Difference : \", s1.difference(s2))\n"
      ],
      "metadata": {
        "colab": {
          "base_uri": "https://localhost:8080/"
        },
        "id": "0ON3oHKFbsTX",
        "outputId": "53d3372d-ef6c-4944-b3d5-7f78a08f95db"
      },
      "execution_count": 21,
      "outputs": [
        {
          "output_type": "stream",
          "name": "stdout",
          "text": [
            "Enter first set of integers separated by commas : 1,2,3,4,5,6,7\n",
            "Enter second set of integers separated by commas : 2,3,6,4,8,9\n",
            "Union :  {'5', '8', '6', '2', '1', '7', '9', '3', '4'}\n",
            "Intersection :  {'2', '3', '4', '6'}\n",
            "Difference :  {'5', '1', '7'}\n"
          ]
        }
      ]
    },
    {
      "cell_type": "code",
      "source": [
        "#29. Write a code that takes a tuple and an element as input. The function should return the count of occurrences of the given element in the tuple.\n",
        "\n",
        "def count(t, a):\n",
        "  return t.count(a)\n",
        "\n",
        "t = ()\n",
        "n = int(input(\"Enter number of elements of tuple : \"))\n",
        "for i in range(n):\n",
        "    t += (int(input(\"Enter element : \")),)\n",
        "\n",
        "a = int(input(\"Enter element to count : \"))\n",
        "\n",
        "print(\"Count : \", count(t, a))\n"
      ],
      "metadata": {
        "colab": {
          "base_uri": "https://localhost:8080/"
        },
        "id": "3cA44YbacE3Q",
        "outputId": "146ec619-4ac4-471c-8015-62d8db7d35bb"
      },
      "execution_count": 23,
      "outputs": [
        {
          "output_type": "stream",
          "name": "stdout",
          "text": [
            "Enter number of elements of tuple : 5\n",
            "Enter element : 1\n",
            "Enter element : 3\n",
            "Enter element : 2\n",
            "Enter element : 1\n",
            "Enter element : 1\n",
            "Enter element to count : 1\n",
            "Count :  3\n"
          ]
        }
      ]
    },
    {
      "cell_type": "code",
      "source": [
        "#30. Develop a code that prompts the user to input two sets of strings. Then, print the symmetric difference of these two sets.\n",
        "\n",
        "s1 = set(input(\"Enter first set of strings separated by commas : \").split(\",\"))\n",
        "s2 = set(input(\"Enter second set of strings separated by commas : \").split(\",\"))\n",
        "print(\"Symmetric Difference : \", s1.symmetric_difference(s2))"
      ],
      "metadata": {
        "colab": {
          "base_uri": "https://localhost:8080/"
        },
        "id": "MZN8ELxRcXjU",
        "outputId": "8af914dd-a360-4e8d-f262-a576bf9bbdfa"
      },
      "execution_count": 25,
      "outputs": [
        {
          "output_type": "stream",
          "name": "stdout",
          "text": [
            "Enter first set of strings separated by commas : abc,efg,hij,klm,nop\n",
            "Enter second set of strings separated by commas : qrs,tuv,wxy,zds,abc\n",
            "Symmetric Difference :  {'klm', 'tuv', 'zds', 'efg', 'nop', 'wxy', 'qrs', 'hij'}\n"
          ]
        }
      ]
    },
    {
      "cell_type": "code",
      "source": [
        "#31. Write a code that takes a list of words as input and returns a dictionary where the keys are unique words and the values are the frequencies of those words in the input list.\n",
        "\n",
        "l = []\n",
        "n = int(input(\"Enter number of elements : \"))\n",
        "for i in range(n):\n",
        "    l.append(input(\"Enter element : \"))\n",
        "d = {}\n",
        "for i in l:\n",
        "    if i in d:\n",
        "        d[i] += 1\n",
        "    else:\n",
        "        d[i] = 1\n",
        "print(d)"
      ],
      "metadata": {
        "colab": {
          "base_uri": "https://localhost:8080/"
        },
        "id": "I9DEBWJSczZy",
        "outputId": "a8a06d86-2782-4c08-9812-3258daeef3b4"
      },
      "execution_count": 26,
      "outputs": [
        {
          "output_type": "stream",
          "name": "stdout",
          "text": [
            "Enter number of elements : 5\n",
            "Enter element : python\n",
            "Enter element : program\n",
            "Enter element : language\n",
            "Enter element : python\n",
            "Enter element : program\n",
            "{'python': 2, 'program': 2, 'language': 1}\n"
          ]
        }
      ]
    },
    {
      "cell_type": "code",
      "source": [
        "#32. Write a code that takes two dictionaries as input and merges them into a single dictionary. If there are common keys, the values should be added together.\n",
        "\n",
        "d1 = {}\n",
        "n = int(input(\"Enter number of elements of first dictionary : \"))\n",
        "for i in range(n):\n",
        "    key = input(\"Enter key : \")\n",
        "    value = int(input(\"Enter value : \"))\n",
        "    d1[key] = value\n",
        "\n",
        "d2 = {}\n",
        "n = int(input(\"Enter number of elements of second dictionary : \"))\n",
        "for i in range(n):\n",
        "    key = input(\"Enter key : \")\n",
        "    value = int(input(\"Enter value : \"))\n",
        "    d2[key] = value\n",
        "\n",
        "d3 = {**d1, **d2}\n",
        "print(d3)"
      ],
      "metadata": {
        "colab": {
          "base_uri": "https://localhost:8080/"
        },
        "id": "nSHEgNx9dIyR",
        "outputId": "6cfc61b0-f60d-47a3-bee0-1c58f991edb1"
      },
      "execution_count": 28,
      "outputs": [
        {
          "output_type": "stream",
          "name": "stdout",
          "text": [
            "Enter number of elements of first dictionary : 2\n",
            "Enter key : Apple\n",
            "Enter value : 2\n",
            "Enter key : Orange\n",
            "Enter value : 3\n",
            "Enter number of elements of second dictionary : 1\n",
            "Enter key : Apple\n",
            "Enter value : 4\n",
            "{'Apple': 4, 'Orange': 3}\n"
          ]
        }
      ]
    },
    {
      "cell_type": "code",
      "source": [
        "#33. Write a code to access a value in a nested dictionary. The function should take the dictionary and a list of keys as input, and return the corresponding value. If any of the keys do not exist in the dictionary, the function should return None.\n",
        "\n",
        "def access(d, l):\n",
        "  for i in l:\n",
        "    if i in d:\n",
        "      d = d[i]\n",
        "    else:\n",
        "      return None\n",
        "  return d\n",
        "\n",
        "d = {'a': {'b': {'c': 1}}}\n",
        "l = ['a', 'b', 'c']\n",
        "print(access(d, l))\n"
      ],
      "metadata": {
        "colab": {
          "base_uri": "https://localhost:8080/"
        },
        "id": "XBdvN7Ywd1bj",
        "outputId": "e392f950-a004-4669-913d-aa3636a33c90"
      },
      "execution_count": 29,
      "outputs": [
        {
          "output_type": "stream",
          "name": "stdout",
          "text": [
            "1\n"
          ]
        }
      ]
    },
    {
      "cell_type": "code",
      "source": [
        "#34. Write a code that takes a dictionary as input and returns a sorted version of it based on the values. You can choose whether to sort in ascending or descending order.\n",
        "\n",
        "d = {}\n",
        "n = int(input(\"Enter number of elements : \"))\n",
        "for i in range(n):\n",
        "    key = input(\"Enter key : \")\n",
        "    value = int(input(\"Enter value : \"))\n",
        "    d[key] = value\n",
        "\n",
        "d1 = dict(sorted(d.items(), key = lambda x : x[1]))\n",
        "print(d1)\n"
      ],
      "metadata": {
        "colab": {
          "base_uri": "https://localhost:8080/"
        },
        "id": "mYggx8j2eNo0",
        "outputId": "437bd952-ec7e-4e8c-caaf-af54161b5e5e"
      },
      "execution_count": 30,
      "outputs": [
        {
          "output_type": "stream",
          "name": "stdout",
          "text": [
            "Enter number of elements : 3\n",
            "Enter key : 1\n",
            "Enter value : 99\n",
            "Enter key : 2\n",
            "Enter value : 100\n",
            "Enter key : 4\n",
            "Enter value : 87\n",
            "{'4': 87, '1': 99, '2': 100}\n"
          ]
        }
      ]
    },
    {
      "cell_type": "code",
      "source": [
        "#35. Write a code that inverts a dictionary, swapping keys and values. Ensure that the inverted dictionary correctly handles cases where multiple keys have the same value by storing the keys as a list in the inverted dictionary.\n",
        "\n",
        "d = {}\n",
        "n = int(input(\"Enter number of elements : \"))\n",
        "for i in range(n):\n",
        "    key = input(\"Enter key : \")\n",
        "    value = int(input(\"Enter value : \"))\n",
        "    d[key] = value\n",
        "\n",
        "d1 = {}\n",
        "for key, value in d.items():\n",
        "    if value in d1:\n",
        "        d1[value].append(key)\n",
        "    else:\n",
        "        d1[value] = [key]\n",
        "print(d1)\n"
      ],
      "metadata": {
        "colab": {
          "base_uri": "https://localhost:8080/"
        },
        "id": "MxnRUjoHepA9",
        "outputId": "97cbc69b-1261-416d-f9fd-d14d16cc09b7"
      },
      "execution_count": 31,
      "outputs": [
        {
          "output_type": "stream",
          "name": "stdout",
          "text": [
            "Enter number of elements : 3\n",
            "Enter key : 1\n",
            "Enter value : 33\n",
            "Enter key : 2\n",
            "Enter value : 66\n",
            "Enter key : 3\n",
            "Enter value : 99\n",
            "{33: ['1'], 66: ['2'], 99: ['3']}\n"
          ]
        }
      ]
    }
  ]
}